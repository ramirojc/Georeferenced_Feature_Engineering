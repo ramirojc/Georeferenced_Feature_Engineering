{
  "nbformat": 4,
  "nbformat_minor": 0,
  "metadata": {
    "colab": {
      "name": "Georef_FeatureEng.ipynb",
      "provenance": [],
      "collapsed_sections": [],
      "toc_visible": true,
      "mount_file_id": "1eKsC_efhqZyhoqElNFdLiI7GXtqe2Xyd",
      "authorship_tag": "ABX9TyMcWsxOdVrHjBZ6G7mvM77g",
      "include_colab_link": true
    },
    "kernelspec": {
      "name": "python3",
      "display_name": "Python 3"
    }
  },
  "cells": [
    {
      "cell_type": "markdown",
      "metadata": {
        "id": "view-in-github",
        "colab_type": "text"
      },
      "source": [
        "<a href=\"https://colab.research.google.com/github/ramirojc/Georeferenced_Feature_Engineering/blob/master/Georef_FeatureEng.ipynb\" target=\"_parent\"><img src=\"https://colab.research.google.com/assets/colab-badge.svg\" alt=\"Open In Colab\"/></a>"
      ]
    },
    {
      "cell_type": "markdown",
      "metadata": {
        "id": "6rj5IlyYDYLD",
        "colab_type": "text"
      },
      "source": [
        "# Feature Generation based on georeferenced GIS Data with Geopandas"
      ]
    },
    {
      "cell_type": "markdown",
      "metadata": {
        "id": "OMpfEzpu3I4F",
        "colab_type": "text"
      },
      "source": [
        "In this notebook we are going to go throught diferents approachs to generate features from GIS data. \n",
        "\n",
        "The dataset we are using corresponds to the electrical power infrastructure from Sulgipe - Companhia Sul Sergipana de Eletricidade , a small distributor from Brazil.\n",
        "\n",
        "The information is stored as a multilayer GDB database, that includes:\n",
        " - UNTRD, Distribution Transformers Units, Medium to lower voltage transformers.\n",
        " - UNTRS, SubStation Transformers Units, High to Medium voltage transformers.\n",
        " - UCBT, Low Tension Consumer.\n",
        " - SSMT, Medium Voltage distribution power lines.\n",
        "\n",
        "We are going to use GeoPandas to handle the information and perform basic processing tasks, and the cKDTree module of SciPy to construct spatial search trees."
      ]
    },
    {
      "cell_type": "markdown",
      "metadata": {
        "id": "EVQMVlefDMoX",
        "colab_type": "text"
      },
      "source": [
        "## Libraries instalation\n"
      ]
    },
    {
      "cell_type": "code",
      "metadata": {
        "id": "viC0nDHxJBTV",
        "colab_type": "code",
        "colab": {}
      },
      "source": [
        "# GeoPandas instalation \n",
        "!pip install geopandas\n",
        "\n",
        "# We need to install this dependencies for CKDTree to perform properly\n",
        "!apt install libspatialindex-dev\n",
        "!pip install rtree\n",
        "\n",
        "# Contextily allows to display a maptiles background to geopandas plots\n",
        "!pip install contextily"
      ],
      "execution_count": null,
      "outputs": []
    },
    {
      "cell_type": "markdown",
      "metadata": {
        "id": "T0Zeav21DIRE",
        "colab_type": "text"
      },
      "source": [
        "## Loading the data\n"
      ]
    },
    {
      "cell_type": "code",
      "metadata": {
        "id": "y-OKzTVXJEJI",
        "colab_type": "code",
        "colab": {}
      },
      "source": [
        "import geopandas as gpd\n",
        "import pandas as pd\n",
        "import contextily as ctx"
      ],
      "execution_count": null,
      "outputs": []
    },
    {
      "cell_type": "markdown",
      "metadata": {
        "id": "cen2Oogp67aA",
        "colab_type": "text"
      },
      "source": [
        " The dataset can be download from Brazilian National Energy Website, https://www.aneel.gov.br/ , or for easier access you can reference it from this link: \n",
        " \n",
        "https://drive.google.com/file/d/1sOE8Y-VZaM99MFM01YJq-4N0Yw89_9gS/view?usp=sharing\n",
        "\n",
        "The folder name must end with '.gdb' so GeoPandas recognize it as a GDB database."
      ]
    },
    {
      "cell_type": "code",
      "metadata": {
        "id": "CjB4GpmTJHEp",
        "colab_type": "code",
        "colab": {}
      },
      "source": [
        "data_path = './drive/My Drive/BDGD/SULGIPE_46_2018-12-31_M10_20190611-1750.gdb'"
      ],
      "execution_count": null,
      "outputs": []
    },
    {
      "cell_type": "code",
      "metadata": {
        "id": "EwnS39YQKOnb",
        "colab_type": "code",
        "colab": {
          "base_uri": "https://localhost:8080/",
          "height": 68
        },
        "outputId": "bc0fe98b-b109-4edd-c924-ae9a0f5b0783"
      },
      "source": [
        "untrs = gpd.read_file(data_path, driver='FileGDB', layer='UNTRS')\n",
        "untrd = gpd.read_file(data_path, driver='FileGDB', layer='UNTRD')\n",
        "ssmt = gpd.read_file(data_path, driver='FileGDB', layer='SSDMT')"
      ],
      "execution_count": null,
      "outputs": [
        {
          "output_type": "execute_result",
          "data": {
            "text/plain": [
              "((6, 9), Index(['COD_ID', 'DIST', 'NOM', 'SIST_INTE', 'SIST_SUBT', 'DESCR',\n",
              "        'Shape_Length', 'Shape_Area', 'geometry'],\n",
              "       dtype='object'))"
            ]
          },
          "metadata": {
            "tags": []
          },
          "execution_count": 8
        }
      ]
    },
    {
      "cell_type": "markdown",
      "metadata": {
        "id": "ZUR7T78ZAEry",
        "colab_type": "text"
      },
      "source": [
        "## Setting the Coordinates Reference System, CRS.\n",
        "\n",
        "GeoPandas loads the data to a GeoDataframe, this structure is similar to a Pandas DataFrame but adds some extra functionality. For example, we'll have a special columns named 'geometry' that wil hold to geografical representation of each row as a Shapely object (We'll not enter in details about them but you can get more details on https://shapely.readthedocs.io/en/latest/manual.html). \n",
        "\n",
        "This representation it's based on a coordenates reference system, for example WGS84 - EPSG:4326, is the one used by GPS system.\n",
        "\n",
        "Let see an example from:\n",
        "https://geopandas.org/projections.html"
      ]
    },
    {
      "cell_type": "code",
      "metadata": {
        "id": "IHp7bWK3A0vc",
        "colab_type": "code",
        "colab": {}
      },
      "source": [
        "world = gpd.read_file(gpd.datasets.get_path('naturalearth_lowres'))"
      ],
      "execution_count": null,
      "outputs": []
    },
    {
      "cell_type": "code",
      "metadata": {
        "id": "U4f9Zrq6A0yZ",
        "colab_type": "code",
        "colab": {
          "base_uri": "https://localhost:8080/",
          "height": 204
        },
        "outputId": "45de7fa7-9f88-4d7d-c8db-c2505f3549d3"
      },
      "source": [
        "world.crs"
      ],
      "execution_count": null,
      "outputs": [
        {
          "output_type": "execute_result",
          "data": {
            "text/plain": [
              "<Geographic 2D CRS: EPSG:4326>\n",
              "Name: WGS 84\n",
              "Axis Info [ellipsoidal]:\n",
              "- Lat[north]: Geodetic latitude (degree)\n",
              "- Lon[east]: Geodetic longitude (degree)\n",
              "Area of Use:\n",
              "- name: World\n",
              "- bounds: (-180.0, -90.0, 180.0, 90.0)\n",
              "Datum: World Geodetic System 1984\n",
              "- Ellipsoid: WGS 84\n",
              "- Prime Meridian: Greenwich"
            ]
          },
          "metadata": {
            "tags": []
          },
          "execution_count": 13
        }
      ]
    },
    {
      "cell_type": "markdown",
      "metadata": {
        "id": "DX0pLCBpBk81",
        "colab_type": "text"
      },
      "source": [
        "Now we can plot the data in this projection."
      ]
    },
    {
      "cell_type": "code",
      "metadata": {
        "id": "bCaONZPEBCD6",
        "colab_type": "code",
        "colab": {
          "base_uri": "https://localhost:8080/",
          "height": 243
        },
        "outputId": "ddb63d8e-d4dc-452a-c47d-1c945461edff"
      },
      "source": [
        "ax = world.plot()\n",
        "ax.set_title('WGS 84 - EPSG 4326')"
      ],
      "execution_count": null,
      "outputs": [
        {
          "output_type": "execute_result",
          "data": {
            "text/plain": [
              "Text(0.5, 1.0, 'WGS 84 - EPSG 4326')"
            ]
          },
          "metadata": {
            "tags": []
          },
          "execution_count": 60
        },
        {
          "output_type": "display_data",
          "data": {
            "image/png": "[encoded data removed]",
            "text/plain": [
              "<Figure size 432x288 with 1 Axes>"
            ]
          },
          "metadata": {
            "tags": [],
            "needs_background": "light"
          }
        }
      ]
    },
    {
      "cell_type": "markdown",
      "metadata": {
        "id": "rMggquj4Bq9M",
        "colab_type": "text"
      },
      "source": [
        "Geopandas allows us to change the CRS quite easily. Let's re-project to the Mercator Projection CRS, EPSG 3395."
      ]
    },
    {
      "cell_type": "code",
      "metadata": {
        "id": "zPCWhBscBFDd",
        "colab_type": "code",
        "colab": {
          "base_uri": "https://localhost:8080/",
          "height": 311
        },
        "outputId": "ddf94043-2809-4346-ec5b-d1b1620e83e7"
      },
      "source": [
        "ax = world.to_crs('EPSG:3395').plot()\n",
        "ax.set_title('Mercator - EPSG 3395')"
      ],
      "execution_count": null,
      "outputs": [
        {
          "output_type": "execute_result",
          "data": {
            "text/plain": [
              "Text(0.5, 1.0, 'Mercator - EPSG 3395')"
            ]
          },
          "metadata": {
            "tags": []
          },
          "execution_count": 14
        },
        {
          "output_type": "display_data",
          "data": {
            "image/png": "[encoded data removed]",
            "text/plain": [
              "<Figure size 432x288 with 1 Axes>"
            ]
          },
          "metadata": {
            "tags": [],
            "needs_background": "light"
          }
        }
      ]
    },
    {
      "cell_type": "markdown",
      "metadata": {
        "id": "8wBJ1GuXCgTz",
        "colab_type": "text"
      },
      "source": [
        "We can clearly see how the graphical representation is modified."
      ]
    },
    {
      "cell_type": "code",
      "metadata": {
        "id": "WDrphnkNCYNZ",
        "colab_type": "code",
        "colab": {
          "base_uri": "https://localhost:8080/",
          "height": 204
        },
        "outputId": "57ad221f-d9ac-4e97-9820-2797943833a6"
      },
      "source": [
        "pd.concat([world.geometry, world.to_crs('EPSG:3395').geometry], axis=1).head()"
      ],
      "execution_count": null,
      "outputs": [
        {
          "output_type": "execute_result",
          "data": {
            "text/html": [
              "<div>\n",
              "<style scoped>\n",
              "    .dataframe tbody tr th:only-of-type {\n",
              "        vertical-align: middle;\n",
              "    }\n",
              "\n",
              "    .dataframe tbody tr th {\n",
              "        vertical-align: top;\n",
              "    }\n",
              "\n",
              "    .dataframe thead th {\n",
              "        text-align: right;\n",
              "    }\n",
              "</style>\n",
              "<table border=\"1\" class=\"dataframe\">\n",
              "  <thead>\n",
              "    <tr style=\"text-align: right;\">\n",
              "      <th></th>\n",
              "      <th>geometry</th>\n",
              "      <th>geometry</th>\n",
              "    </tr>\n",
              "  </thead>\n",
              "  <tbody>\n",
              "    <tr>\n",
              "      <th>0</th>\n",
              "      <td>MULTIPOLYGON (((180.00000 -16.06713, 180.00000...</td>\n",
              "      <td>MULTIPOLYGON (((20037508.343 -1800679.237, 200...</td>\n",
              "    </tr>\n",
              "    <tr>\n",
              "      <th>1</th>\n",
              "      <td>POLYGON ((33.90371 -0.95000, 34.07262 -1.05982...</td>\n",
              "      <td>POLYGON ((3774143.866 -105050.440, 3792946.708...</td>\n",
              "    </tr>\n",
              "    <tr>\n",
              "      <th>2</th>\n",
              "      <td>POLYGON ((-8.66559 27.65643, -8.66512 27.58948...</td>\n",
              "      <td>POLYGON ((-964649.018 3185897.152, -964597.245...</td>\n",
              "    </tr>\n",
              "    <tr>\n",
              "      <th>3</th>\n",
              "      <td>MULTIPOLYGON (((-122.84000 49.00000, -122.9742...</td>\n",
              "      <td>MULTIPOLYGON (((-13674486.249 6242596.000, -13...</td>\n",
              "    </tr>\n",
              "    <tr>\n",
              "      <th>4</th>\n",
              "      <td>MULTIPOLYGON (((-122.84000 49.00000, -120.0000...</td>\n",
              "      <td>MULTIPOLYGON (((-13674486.249 6242596.000, -13...</td>\n",
              "    </tr>\n",
              "  </tbody>\n",
              "</table>\n",
              "</div>"
            ],
            "text/plain": [
              "                                            geometry                                           geometry\n",
              "0  MULTIPOLYGON (((180.00000 -16.06713, 180.00000...  MULTIPOLYGON (((20037508.343 -1800679.237, 200...\n",
              "1  POLYGON ((33.90371 -0.95000, 34.07262 -1.05982...  POLYGON ((3774143.866 -105050.440, 3792946.708...\n",
              "2  POLYGON ((-8.66559 27.65643, -8.66512 27.58948...  POLYGON ((-964649.018 3185897.152, -964597.245...\n",
              "3  MULTIPOLYGON (((-122.84000 49.00000, -122.9742...  MULTIPOLYGON (((-13674486.249 6242596.000, -13...\n",
              "4  MULTIPOLYGON (((-122.84000 49.00000, -120.0000...  MULTIPOLYGON (((-13674486.249 6242596.000, -13..."
            ]
          },
          "metadata": {
            "tags": []
          },
          "execution_count": 28
        }
      ]
    },
    {
      "cell_type": "markdown",
      "metadata": {
        "id": "bUno0d_DCDJc",
        "colab_type": "text"
      },
      "source": [
        "### Convert to a local metric system\n",
        "\n",
        "We are going to calculate distance, so we want a CRS representation in meters instead of degrees. For this will first find the UTM corresponding to our data in https://www.latlong.net/lat-long-utm.html , the result is 24S (24L).\n",
        "\n",
        "With this information we search an UTM system in https://epsg.io/ and find that the correct system is EPSG 31984.\n",
        "\n",
        "Now we convert all our GeoDataFrames to this CRS"
      ]
    },
    {
      "cell_type": "code",
      "metadata": {
        "id": "BI9V_yYpIShj",
        "colab_type": "code",
        "colab": {
          "base_uri": "https://localhost:8080/",
          "height": 204
        },
        "outputId": "18255c17-86bf-4db7-9a7c-cf67b746117c"
      },
      "source": [
        "conj.crs"
      ],
      "execution_count": null,
      "outputs": [
        {
          "output_type": "execute_result",
          "data": {
            "text/plain": [
              "<Geographic 2D CRS: EPSG:4674>\n",
              "Name: SIRGAS 2000\n",
              "Axis Info [ellipsoidal]:\n",
              "- Lat[north]: Geodetic latitude (degree)\n",
              "- Lon[east]: Geodetic longitude (degree)\n",
              "Area of Use:\n",
              "- name: Latin America - SIRGAS 2000 by country\n",
              "- bounds: (-122.19, -59.87, -25.28, 32.72)\n",
              "Datum: Sistema de Referencia Geocentrico para las AmericaS 2000\n",
              "- Ellipsoid: GRS 1980\n",
              "- Prime Meridian: Greenwich"
            ]
          },
          "metadata": {
            "tags": []
          },
          "execution_count": 29
        }
      ]
    },
    {
      "cell_type": "code",
      "metadata": {
        "id": "6BX5lqLMLM_C",
        "colab_type": "code",
        "colab": {}
      },
      "source": [
        "conj = conj.to_crs(epsg=31984)\n",
        "untrs = untrs.to_crs(epsg=31984)\n",
        "untrd = untrd.to_crs(epsg=31984)\n",
        "ssmt = ssmt.to_crs(epsg=31984)"
      ],
      "execution_count": null,
      "outputs": []
    },
    {
      "cell_type": "code",
      "metadata": {
        "id": "k9KV0ymMIau4",
        "colab_type": "code",
        "colab": {
          "base_uri": "https://localhost:8080/",
          "height": 255
        },
        "outputId": "d457ef55-ca3c-43ed-daab-123fe4b9b4e9"
      },
      "source": [
        "conj.crs"
      ],
      "execution_count": null,
      "outputs": [
        {
          "output_type": "execute_result",
          "data": {
            "text/plain": [
              "<Projected CRS: EPSG:31984>\n",
              "Name: SIRGAS 2000 / UTM zone 24S\n",
              "Axis Info [cartesian]:\n",
              "- E[east]: Easting (metre)\n",
              "- N[north]: Northing (metre)\n",
              "Area of Use:\n",
              "- name: Brazil - 42°W to 36°W\n",
              "- bounds: (-42.0, -26.35, -36.0, 0.74)\n",
              "Coordinate Operation:\n",
              "- name: UTM zone 24S\n",
              "- method: Transverse Mercator\n",
              "Datum: Sistema de Referencia Geocentrico para las AmericaS 2000\n",
              "- Ellipsoid: GRS 1980\n",
              "- Prime Meridian: Greenwich"
            ]
          },
          "metadata": {
            "tags": []
          },
          "execution_count": 31
        }
      ]
    },
    {
      "cell_type": "markdown",
      "metadata": {
        "id": "O3C7z4L-C5Em",
        "colab_type": "text"
      },
      "source": [
        "## Feature Generation based on distances to keypoints\n",
        "\n"
      ]
    },
    {
      "cell_type": "markdown",
      "metadata": {
        "id": "8yNVCb1GDw0n",
        "colab_type": "text"
      },
      "source": [
        "### Euclidian Distance to points in the dataset\n",
        "\n",
        "The first thing we can do it's to get the distance to keypoints already available in the dataset. In this case we'll use the UNTRS (High Voltage Transformerss).\n",
        "\n",
        "We could apply this idea in housing data, getting the distance to more valuable, or bigger houses; in farming to be the distances to areas with the highest returns, etc."
      ]
    },
    {
      "cell_type": "markdown",
      "metadata": {
        "id": "BUmEFRFaK3t5",
        "colab_type": "text"
      },
      "source": [
        "For this we use the 'distance' method, we can pass one reference or a vector the same size of the dataset for one-to-one calculations."
      ]
    },
    {
      "cell_type": "code",
      "metadata": {
        "id": "O6YTUPd7z2R1",
        "colab_type": "code",
        "colab": {
          "base_uri": "https://localhost:8080/",
          "height": 394
        },
        "outputId": "d41bd052-4abf-4d1f-c106-c5956f7d4be5"
      },
      "source": [
        "for i, trs in enumerate(untrs.geometry.unique()): untrd[f'dist2trs{i}'] = untrd.distance(trs)\n",
        "\n",
        "untrd.head()"
      ],
      "execution_count": null,
      "outputs": [
        {
          "output_type": "execute_result",
          "data": {
            "text/html": [
              "<div>\n",
              "<style scoped>\n",
              "    .dataframe tbody tr th:only-of-type {\n",
              "        vertical-align: middle;\n",
              "    }\n",
              "\n",
              "    .dataframe tbody tr th {\n",
              "        vertical-align: top;\n",
              "    }\n",
              "\n",
              "    .dataframe thead th {\n",
              "        text-align: right;\n",
              "    }\n",
              "</style>\n",
              "<table border=\"1\" class=\"dataframe\">\n",
              "  <thead>\n",
              "    <tr style=\"text-align: right;\">\n",
              "      <th></th>\n",
              "      <th>COD_ID</th>\n",
              "      <th>DIST</th>\n",
              "      <th>PAC_1</th>\n",
              "      <th>PAC_2</th>\n",
              "      <th>PAC_3</th>\n",
              "      <th>FAS_CON_P</th>\n",
              "      <th>FAS_CON_S</th>\n",
              "      <th>FAS_CON_T</th>\n",
              "      <th>SIT_ATIV</th>\n",
              "      <th>TIP_UNID</th>\n",
              "      <th>POS</th>\n",
              "      <th>ATRB_PER</th>\n",
              "      <th>TEN_LIN_SE</th>\n",
              "      <th>CAP_ELO</th>\n",
              "      <th>CAP_CHA</th>\n",
              "      <th>TAP</th>\n",
              "      <th>CONF</th>\n",
              "      <th>POSTO</th>\n",
              "      <th>POT_NOM</th>\n",
              "      <th>PER_FER</th>\n",
              "      <th>PER_TOT</th>\n",
              "      <th>DAT_CON</th>\n",
              "      <th>CTMT</th>\n",
              "      <th>UNI_TR_S</th>\n",
              "      <th>SUB</th>\n",
              "      <th>CONJ</th>\n",
              "      <th>MUN</th>\n",
              "      <th>BANC</th>\n",
              "      <th>TIP_TRAFO</th>\n",
              "      <th>MRT</th>\n",
              "      <th>DESCR</th>\n",
              "      <th>ARE_LOC</th>\n",
              "      <th>geometry</th>\n",
              "      <th>trs_0</th>\n",
              "      <th>trs_1</th>\n",
              "      <th>trs_2</th>\n",
              "      <th>trs_3</th>\n",
              "      <th>trs_4</th>\n",
              "      <th>trs_5</th>\n",
              "      <th>dist2trs0</th>\n",
              "      <th>dist2trs1</th>\n",
              "      <th>dist2trs2</th>\n",
              "      <th>dist2trs3</th>\n",
              "      <th>dist2trs4</th>\n",
              "      <th>dist2trs5</th>\n",
              "    </tr>\n",
              "  </thead>\n",
              "  <tbody>\n",
              "    <tr>\n",
              "      <th>0</th>\n",
              "      <td>4_1040341</td>\n",
              "      <td>46</td>\n",
              "      <td>452971</td>\n",
              "      <td>ET4_1040341</td>\n",
              "      <td>0</td>\n",
              "      <td>ABC</td>\n",
              "      <td>ABCN</td>\n",
              "      <td>0</td>\n",
              "      <td>AT</td>\n",
              "      <td>38</td>\n",
              "      <td>PD</td>\n",
              "      <td>1</td>\n",
              "      <td>0.22</td>\n",
              "      <td>05H</td>\n",
              "      <td>1</td>\n",
              "      <td>1.0</td>\n",
              "      <td>RA</td>\n",
              "      <td>PT</td>\n",
              "      <td>15.0</td>\n",
              "      <td>100.0</td>\n",
              "      <td>440.0</td>\n",
              "      <td>30/09/2010</td>\n",
              "      <td>2_SESAQ_1</td>\n",
              "      <td>1_SESAQ_1</td>\n",
              "      <td>SESAQ</td>\n",
              "      <td>12737</td>\n",
              "      <td>2805802</td>\n",
              "      <td>0</td>\n",
              "      <td>T</td>\n",
              "      <td>0</td>\n",
              "      <td></td>\n",
              "      <td>NU</td>\n",
              "      <td>POINT (627712.617 8776098.670)</td>\n",
              "      <td>33373.033284</td>\n",
              "      <td>22651.542996</td>\n",
              "      <td>31083.768215</td>\n",
              "      <td>6030.232571</td>\n",
              "      <td>58865.083741</td>\n",
              "      <td>47745.326303</td>\n",
              "      <td>33373.033284</td>\n",
              "      <td>22651.542996</td>\n",
              "      <td>31083.768215</td>\n",
              "      <td>6030.232571</td>\n",
              "      <td>58865.083741</td>\n",
              "      <td>47745.326303</td>\n",
              "    </tr>\n",
              "    <tr>\n",
              "      <th>1</th>\n",
              "      <td>4_1040306</td>\n",
              "      <td>46</td>\n",
              "      <td>452681</td>\n",
              "      <td>ET4_1040306</td>\n",
              "      <td>0</td>\n",
              "      <td>ABC</td>\n",
              "      <td>ABCN</td>\n",
              "      <td>0</td>\n",
              "      <td>AT</td>\n",
              "      <td>38</td>\n",
              "      <td>PD</td>\n",
              "      <td>1</td>\n",
              "      <td>0.22</td>\n",
              "      <td>05H</td>\n",
              "      <td>1</td>\n",
              "      <td>1.0</td>\n",
              "      <td>RA</td>\n",
              "      <td>PT</td>\n",
              "      <td>15.0</td>\n",
              "      <td>100.0</td>\n",
              "      <td>440.0</td>\n",
              "      <td>15/03/2011</td>\n",
              "      <td>2_SESAQ_1</td>\n",
              "      <td>1_SESAQ_1</td>\n",
              "      <td>SESAQ</td>\n",
              "      <td>12737</td>\n",
              "      <td>2805802</td>\n",
              "      <td>0</td>\n",
              "      <td>T</td>\n",
              "      <td>0</td>\n",
              "      <td></td>\n",
              "      <td>NU</td>\n",
              "      <td>POINT (626353.418 8777498.606)</td>\n",
              "      <td>34767.345733</td>\n",
              "      <td>24335.711515</td>\n",
              "      <td>33034.207600</td>\n",
              "      <td>6839.156041</td>\n",
              "      <td>60809.764891</td>\n",
              "      <td>49595.911936</td>\n",
              "      <td>34767.345733</td>\n",
              "      <td>24335.711515</td>\n",
              "      <td>33034.207600</td>\n",
              "      <td>6839.156041</td>\n",
              "      <td>60809.764891</td>\n",
              "      <td>49595.911936</td>\n",
              "    </tr>\n",
              "    <tr>\n",
              "      <th>2</th>\n",
              "      <td>7_2070013</td>\n",
              "      <td>46</td>\n",
              "      <td>600021</td>\n",
              "      <td>ET7_2070013</td>\n",
              "      <td>0</td>\n",
              "      <td>ABC</td>\n",
              "      <td>ABCN</td>\n",
              "      <td>0</td>\n",
              "      <td>AT</td>\n",
              "      <td>38</td>\n",
              "      <td>O</td>\n",
              "      <td>2</td>\n",
              "      <td>0.38</td>\n",
              "      <td>5H</td>\n",
              "      <td>1</td>\n",
              "      <td>1.0</td>\n",
              "      <td>RA</td>\n",
              "      <td>PT</td>\n",
              "      <td>112.5</td>\n",
              "      <td>440.0</td>\n",
              "      <td>1990.0</td>\n",
              "      <td>30/09/2010</td>\n",
              "      <td>1_SEITI_1</td>\n",
              "      <td>1_SEITI_1</td>\n",
              "      <td>SEITI</td>\n",
              "      <td>15601</td>\n",
              "      <td>2803005</td>\n",
              "      <td>0</td>\n",
              "      <td>T</td>\n",
              "      <td>0</td>\n",
              "      <td></td>\n",
              "      <td>UB</td>\n",
              "      <td>POINT (632355.415 8753247.956)</td>\n",
              "      <td>11843.951688</td>\n",
              "      <td>802.511258</td>\n",
              "      <td>17689.117060</td>\n",
              "      <td>19181.956041</td>\n",
              "      <td>39783.737130</td>\n",
              "      <td>37918.027548</td>\n",
              "      <td>11843.951688</td>\n",
              "      <td>802.511258</td>\n",
              "      <td>17689.117060</td>\n",
              "      <td>19181.956041</td>\n",
              "      <td>39783.737130</td>\n",
              "      <td>37918.027548</td>\n",
              "    </tr>\n",
              "    <tr>\n",
              "      <th>3</th>\n",
              "      <td>4_1040035</td>\n",
              "      <td>46</td>\n",
              "      <td>462831</td>\n",
              "      <td>ET4_1040035</td>\n",
              "      <td>ET4_1040035</td>\n",
              "      <td>AB</td>\n",
              "      <td>AN</td>\n",
              "      <td>BN</td>\n",
              "      <td>AT</td>\n",
              "      <td>38</td>\n",
              "      <td>PD</td>\n",
              "      <td>1</td>\n",
              "      <td>0.23</td>\n",
              "      <td>1H</td>\n",
              "      <td>1</td>\n",
              "      <td>1.0</td>\n",
              "      <td>RA</td>\n",
              "      <td>PT</td>\n",
              "      <td>15.0</td>\n",
              "      <td>85.0</td>\n",
              "      <td>355.0</td>\n",
              "      <td>30/09/2010</td>\n",
              "      <td>2_SESAQ_1</td>\n",
              "      <td>1_SESAQ_1</td>\n",
              "      <td>SESAQ</td>\n",
              "      <td>12737</td>\n",
              "      <td>2805802</td>\n",
              "      <td>0</td>\n",
              "      <td>MT</td>\n",
              "      <td>0</td>\n",
              "      <td></td>\n",
              "      <td>NU</td>\n",
              "      <td>POINT (635724.137 8773322.662)</td>\n",
              "      <td>31834.700389</td>\n",
              "      <td>19572.173311</td>\n",
              "      <td>23677.732683</td>\n",
              "      <td>11259.764183</td>\n",
              "      <td>51825.564034</td>\n",
              "      <td>39363.858336</td>\n",
              "      <td>31834.700389</td>\n",
              "      <td>19572.173311</td>\n",
              "      <td>23677.732683</td>\n",
              "      <td>11259.764183</td>\n",
              "      <td>51825.564034</td>\n",
              "      <td>39363.858336</td>\n",
              "    </tr>\n",
              "    <tr>\n",
              "      <th>4</th>\n",
              "      <td>13_1130368</td>\n",
              "      <td>46</td>\n",
              "      <td>148261</td>\n",
              "      <td>ET13_1130368</td>\n",
              "      <td>0</td>\n",
              "      <td>ABC</td>\n",
              "      <td>ABCN</td>\n",
              "      <td>0</td>\n",
              "      <td>AT</td>\n",
              "      <td>38</td>\n",
              "      <td>PD</td>\n",
              "      <td>1</td>\n",
              "      <td>0.38</td>\n",
              "      <td>2H</td>\n",
              "      <td>1</td>\n",
              "      <td>1.0</td>\n",
              "      <td>RA</td>\n",
              "      <td>PT</td>\n",
              "      <td>45.0</td>\n",
              "      <td>220.0</td>\n",
              "      <td>1000.0</td>\n",
              "      <td>18/10/2013</td>\n",
              "      <td>1_SETMG_1</td>\n",
              "      <td>2_SETMG_1</td>\n",
              "      <td>SETMG</td>\n",
              "      <td>12743</td>\n",
              "      <td>2917904</td>\n",
              "      <td>0</td>\n",
              "      <td>T</td>\n",
              "      <td>0</td>\n",
              "      <td></td>\n",
              "      <td>NU</td>\n",
              "      <td>POINT (631104.558 8720058.235)</td>\n",
              "      <td>23063.913506</td>\n",
              "      <td>33969.870343</td>\n",
              "      <td>39230.675231</td>\n",
              "      <td>51191.952460</td>\n",
              "      <td>35560.321988</td>\n",
              "      <td>52094.584150</td>\n",
              "      <td>23063.913506</td>\n",
              "      <td>33969.870343</td>\n",
              "      <td>39230.675231</td>\n",
              "      <td>51191.952460</td>\n",
              "      <td>35560.321988</td>\n",
              "      <td>52094.584150</td>\n",
              "    </tr>\n",
              "  </tbody>\n",
              "</table>\n",
              "</div>"
            ],
            "text/plain": [
              "       COD_ID  DIST   PAC_1  ...     dist2trs3     dist2trs4     dist2trs5\n",
              "0   4_1040341    46  452971  ...   6030.232571  58865.083741  47745.326303\n",
              "1   4_1040306    46  452681  ...   6839.156041  60809.764891  49595.911936\n",
              "2   7_2070013    46  600021  ...  19181.956041  39783.737130  37918.027548\n",
              "3   4_1040035    46  462831  ...  11259.764183  51825.564034  39363.858336\n",
              "4  13_1130368    46  148261  ...  51191.952460  35560.321988  52094.584150\n",
              "\n",
              "[5 rows x 45 columns]"
            ]
          },
          "metadata": {
            "tags": []
          },
          "execution_count": 52
        }
      ]
    },
    {
      "cell_type": "markdown",
      "metadata": {
        "colab_type": "text",
        "id": "oDxMcnlsktgl"
      },
      "source": [
        "### Euclidean distance to custom spatial objects\n",
        "\n",
        "In the last point se used points already in the dataset, but nothing prohibits us to use custom points defined by any criteria. For example now will define the coast line and create a feature that will measure the distance to the sea. But we could use this method for any landmark or point of interest.\n",
        "\n",
        "We must remember that our custom reference must be in the same CRS we are using our dataset. We could either draw the line in a GIS based software like QGIS or get the points in an standard CRS and transform them.\n"
      ]
    },
    {
      "cell_type": "markdown",
      "metadata": {
        "id": "dktYlzkZv8mp",
        "colab_type": "text"
      },
      "source": [
        "<img src=\"https://drive.google.com/u/0/uc?id=1Pp8ljjUBfUUl8k_ys4AXsXS7IwQGyQMd\" width=\"500\" align=\"middle\"/>\n"
      ]
    },
    {
      "cell_type": "code",
      "metadata": {
        "id": "qpTVVxoHlVh-",
        "colab_type": "code",
        "colab": {
          "base_uri": "https://localhost:8080/",
          "height": 282
        },
        "outputId": "1d43e12b-a867-4790-f5c6-44194fd1b737"
      },
      "source": [
        "# Custom line in EPSG:31984 CRS\n",
        "l_costa = LineString([(700193.83391362486872822, 8763788.64822966419160366),\n",
        "                  (686834.44766193581745028, 8746861.22714056819677353), \n",
        "                  (683515.34548760310281068, 8735493.30219347961246967), \n",
        "                  (675383.54516048799268901, 8726697.68143149651587009), \n",
        "                  (657418.90464191255159676, 8691100.3106117807328701)])\n",
        "\n",
        "untrd['dist_mar'] = untrd.distance(l_costa)\n",
        "untrd.dist_mar.hist()"
      ],
      "execution_count": null,
      "outputs": [
        {
          "output_type": "execute_result",
          "data": {
            "text/plain": [
              "<matplotlib.axes._subplots.AxesSubplot at 0x7f72132fc748>"
            ]
          },
          "metadata": {
            "tags": []
          },
          "execution_count": 56
        },
        {
          "output_type": "display_data",
          "data": {
            "image/png": "[encoded data removed]",
            "text/plain": [
              "<Figure size 432x288 with 1 Axes>"
            ]
          },
          "metadata": {
            "tags": [],
            "needs_background": "light"
          }
        }
      ]
    },
    {
      "cell_type": "markdown",
      "metadata": {
        "id": "bDZXj0Vb7ctV",
        "colab_type": "text"
      },
      "source": [
        "## Feature generation based on spatial search trees"
      ]
    },
    {
      "cell_type": "markdown",
      "metadata": {
        "id": "GDF0pEndAHOT",
        "colab_type": "text"
      },
      "source": [
        "### Object density calculation\n",
        "\n",
        "We are using cKDTree to generate spatial search trees, this will allow us perform searchs around each object. Let's see two ways to use them."
      ]
    },
    {
      "cell_type": "code",
      "metadata": {
        "id": "PMIhWs3l7brA",
        "colab_type": "code",
        "colab": {}
      },
      "source": [
        "# We are going to use\n",
        "from scipy.spatial import cKDTree"
      ],
      "execution_count": 6,
      "outputs": []
    },
    {
      "cell_type": "markdown",
      "metadata": {
        "id": "tiIBfVDPwGvZ",
        "colab_type": "text"
      },
      "source": [
        "The first method is to define a radius around a point and get all the points inside the circle defined. This is some sort of density of objetcs around de reference.\n",
        "\n",
        "In our case we want to know how many low-tension consumers there are around each transformer. So, first we load the consumers data."
      ]
    },
    {
      "cell_type": "code",
      "metadata": {
        "id": "ht0D2vZc8L2m",
        "colab_type": "code",
        "colab": {}
      },
      "source": [
        "ucbt = gpd.read_file(data_path, driver='FileGDB', layer='UCBT')\n",
        "ucbt = ucbt.to_crs(epsg=31984)"
      ],
      "execution_count": null,
      "outputs": []
    },
    {
      "cell_type": "markdown",
      "metadata": {
        "id": "c39tUFKTwrPk",
        "colab_type": "text"
      },
      "source": [
        "To create the tree we must pass an array with the dimentions"
      ]
    },
    {
      "cell_type": "code",
      "metadata": {
        "id": "eFTKEAfU8_kN",
        "colab_type": "code",
        "colab": {}
      },
      "source": [
        "# In order t\n",
        "ucbt_loc_array = [x.coords[0] for x in ucbt.geometry]\n",
        "untrd_loc_array = [x.coords[0] for x in untrd.geometry]"
      ],
      "execution_count": null,
      "outputs": []
    },
    {
      "cell_type": "markdown",
      "metadata": {
        "id": "N_AFgNokCIJD",
        "colab_type": "text"
      },
      "source": [
        "Let's use a 100 meters radius"
      ]
    },
    {
      "cell_type": "code",
      "metadata": {
        "id": "PtOiSyF18uHm",
        "colab_type": "code",
        "colab": {}
      },
      "source": [
        "radio = 100\n",
        "tree = cKDTree(ucbt_loc_array)\n",
        "near_consumers = tree.query_ball_point(untrd_loc_array, radio)"
      ],
      "execution_count": null,
      "outputs": []
    },
    {
      "cell_type": "markdown",
      "metadata": {
        "id": "EfmkNz32w63U",
        "colab_type": "text"
      },
      "source": [
        "This will return a list of indices for each transformer"
      ]
    },
    {
      "cell_type": "code",
      "metadata": {
        "id": "lwatOc1GwouR",
        "colab_type": "code",
        "colab": {
          "base_uri": "https://localhost:8080/",
          "height": 173
        },
        "outputId": "e341232a-3e29-4959-c494-020a9529c707"
      },
      "source": [
        "near_consumers[0:10]"
      ],
      "execution_count": null,
      "outputs": [
        {
          "output_type": "execute_result",
          "data": {
            "text/plain": [
              "array([list([100083]), list([104711]),\n",
              "       list([5543, 5545, 5549, 5550, 5551, 5552, 5553, 5674, 5675, 5676, 5677, 5678, 5679, 8463, 8464, 14893, 14894, 15649, 15650, 15651, 15652, 15653, 15654, 15655, 15656, 15657, 15658, 15668, 15669, 15670, 15671, 15672, 15673, 15674, 15675, 15676, 15677, 15678, 15692, 15693, 15694, 15931, 15950, 15951, 15953, 15955, 15970, 15971, 15973, 15974, 15975, 15976, 15990, 15991, 15992, 16000, 16019, 16020, 16036, 16084, 16400, 16413, 16416, 17404, 23409, 23702, 31180, 39167, 39168, 39894, 40524, 40558, 40664, 41591, 42018, 42122, 42123, 44123, 44418, 44419, 44502, 44889, 45015, 45055, 46516, 51701, 64254, 64987, 64988, 65398, 65519, 66227, 66546, 66812, 66813, 66815, 66816, 66817, 67214, 67437, 67438, 67439, 67441, 67912, 67913, 67915, 69389, 69473, 69474, 69493, 69494, 69496, 69497, 69545, 69546, 69547, 69551, 69552, 69553, 69554, 69555, 70018, 70019, 70020, 70021, 70022, 70188, 99972, 107219, 107747, 114274, 114303, 117881, 118208, 120014, 120015, 120030, 120058, 120061, 122147, 122149, 122150, 122151, 122227, 122228, 122229, 122297, 122421, 122422, 122423, 122500, 122501, 122502, 122503, 122504, 122511, 122577, 122578, 122579, 122580, 122581, 122582, 122583, 122584, 122586, 123208, 123722, 124504, 124669, 125709, 126129, 126461, 126553, 126868, 130348, 131694, 132404, 132405, 133109, 134396, 134771, 134773, 134816, 135454, 136223, 138164, 138327, 138624, 138634, 139426, 139733, 147474, 147640, 147943, 147945]),\n",
              "       list([100959, 100960, 101103, 101104, 101105, 101106, 101109, 101110, 101112, 117556, 126118, 135255, 135780, 143822]),\n",
              "       list([21511, 68479, 146960, 148344]),\n",
              "       list([100563, 100564, 100719, 100720, 100721, 100722, 100723, 100726, 110816]),\n",
              "       list([100741, 100742, 100743, 100744, 100745, 100750, 100751, 100753, 116692, 136261]),\n",
              "       list([35337]), list([8748, 91949, 91950, 91951, 91952, 91959]),\n",
              "       list([])], dtype=object)"
            ]
          },
          "metadata": {
            "tags": []
          },
          "execution_count": 138
        }
      ]
    },
    {
      "cell_type": "markdown",
      "metadata": {
        "id": "PR2XfWVmxH57",
        "colab_type": "text"
      },
      "source": [
        "And now we can create features aggregating this lists of lists."
      ]
    },
    {
      "cell_type": "code",
      "metadata": {
        "id": "W5EE7ALj904G",
        "colab_type": "code",
        "colab": {}
      },
      "source": [
        "# Amount of consumers in 100 meters radius\n",
        "untrd['n_close_con'] = [len(c) for c in near_consumers]\n",
        "\n",
        "# Is there more than 50 consumers in 100 meters radius\n",
        "untrd['is_urb'] =  untrd['n_close_con'] > 50"
      ],
      "execution_count": null,
      "outputs": []
    },
    {
      "cell_type": "markdown",
      "metadata": {
        "id": "iTqE6EaSAO6E",
        "colab_type": "text"
      },
      "source": [
        "### Distance to closest object"
      ]
    },
    {
      "cell_type": "markdown",
      "metadata": {
        "id": "TY2aSGAAxVGn",
        "colab_type": "text"
      },
      "source": [
        "The second approach we could use is to get the distance to the k closest elemets on the tree.\n",
        "\n",
        "So this time will calculate the distance to the new transformer."
      ]
    },
    {
      "cell_type": "code",
      "metadata": {
        "id": "hygjRYo4ASLY",
        "colab_type": "code",
        "colab": {}
      },
      "source": [
        "trd_tree = cKDTree(untrd_loc_array)\n",
        "d, i = trd_tree.query(untrd_loc_array, k=2, n_jobs=-1)"
      ],
      "execution_count": null,
      "outputs": []
    },
    {
      "cell_type": "markdown",
      "metadata": {
        "id": "IPSNfQQsFv8p",
        "colab_type": "text"
      },
      "source": [
        "We want to know the closest element, however we set k=2 because the first will be the transformer itself.\n",
        "\n",
        "In this case the query will return two lists of lenght k (2 in this case) lists. One will contain the distances and the other the indices of the correspondent element."
      ]
    },
    {
      "cell_type": "code",
      "metadata": {
        "id": "ZU-IYBqNxkIS",
        "colab_type": "code",
        "colab": {
          "base_uri": "https://localhost:8080/",
          "height": 102
        },
        "outputId": "009d6383-af94-4d30-daa1-6ba38bcb4ef2"
      },
      "source": [
        "d[:5]"
      ],
      "execution_count": null,
      "outputs": [
        {
          "output_type": "execute_result",
          "data": {
            "text/plain": [
              "array([[  0.        , 182.47357502],\n",
              "       [  0.        , 668.68191247],\n",
              "       [  0.        ,  35.66382543],\n",
              "       [  0.        , 191.94049967],\n",
              "       [  0.        ,  58.1663477 ]])"
            ]
          },
          "metadata": {
            "tags": []
          },
          "execution_count": 142
        }
      ]
    },
    {
      "cell_type": "markdown",
      "metadata": {
        "id": "KiBsmeroxuU-",
        "colab_type": "text"
      },
      "source": [
        "So now again we use the result to generate new features"
      ]
    },
    {
      "cell_type": "code",
      "metadata": {
        "id": "e2nJBTikA3jk",
        "colab_type": "code",
        "colab": {}
      },
      "source": [
        "untrd['closest_trd_i'] = [ti[1] for ti in i]\n",
        "untrd['closest_trd_dist'] = [td[1] for td in d]"
      ],
      "execution_count": null,
      "outputs": []
    },
    {
      "cell_type": "code",
      "metadata": {
        "id": "ESCAeziYx0C8",
        "colab_type": "code",
        "colab": {
          "base_uri": "https://localhost:8080/",
          "height": 394
        },
        "outputId": "631a558f-1066-47c1-9f62-4ac23e5270a4"
      },
      "source": [
        "untrd.head()"
      ],
      "execution_count": null,
      "outputs": [
        {
          "output_type": "execute_result",
          "data": {
            "text/html": [
              "<div>\n",
              "<style scoped>\n",
              "    .dataframe tbody tr th:only-of-type {\n",
              "        vertical-align: middle;\n",
              "    }\n",
              "\n",
              "    .dataframe tbody tr th {\n",
              "        vertical-align: top;\n",
              "    }\n",
              "\n",
              "    .dataframe thead th {\n",
              "        text-align: right;\n",
              "    }\n",
              "</style>\n",
              "<table border=\"1\" class=\"dataframe\">\n",
              "  <thead>\n",
              "    <tr style=\"text-align: right;\">\n",
              "      <th></th>\n",
              "      <th>COD_ID</th>\n",
              "      <th>DIST</th>\n",
              "      <th>PAC_1</th>\n",
              "      <th>PAC_2</th>\n",
              "      <th>PAC_3</th>\n",
              "      <th>FAS_CON_P</th>\n",
              "      <th>FAS_CON_S</th>\n",
              "      <th>FAS_CON_T</th>\n",
              "      <th>SIT_ATIV</th>\n",
              "      <th>TIP_UNID</th>\n",
              "      <th>POS</th>\n",
              "      <th>ATRB_PER</th>\n",
              "      <th>TEN_LIN_SE</th>\n",
              "      <th>CAP_ELO</th>\n",
              "      <th>CAP_CHA</th>\n",
              "      <th>TAP</th>\n",
              "      <th>CONF</th>\n",
              "      <th>POSTO</th>\n",
              "      <th>POT_NOM</th>\n",
              "      <th>PER_FER</th>\n",
              "      <th>PER_TOT</th>\n",
              "      <th>DAT_CON</th>\n",
              "      <th>CTMT</th>\n",
              "      <th>UNI_TR_S</th>\n",
              "      <th>SUB</th>\n",
              "      <th>CONJ</th>\n",
              "      <th>MUN</th>\n",
              "      <th>BANC</th>\n",
              "      <th>TIP_TRAFO</th>\n",
              "      <th>MRT</th>\n",
              "      <th>DESCR</th>\n",
              "      <th>ARE_LOC</th>\n",
              "      <th>geometry</th>\n",
              "      <th>eu_dis_trs</th>\n",
              "      <th>dist_mar</th>\n",
              "      <th>main_r_dist</th>\n",
              "      <th>closest_trd_i</th>\n",
              "      <th>closest_trd_dist</th>\n",
              "    </tr>\n",
              "  </thead>\n",
              "  <tbody>\n",
              "    <tr>\n",
              "      <th>0</th>\n",
              "      <td>4_1040341</td>\n",
              "      <td>46</td>\n",
              "      <td>452971</td>\n",
              "      <td>ET4_1040341</td>\n",
              "      <td>0</td>\n",
              "      <td>ABC</td>\n",
              "      <td>ABCN</td>\n",
              "      <td>0</td>\n",
              "      <td>AT</td>\n",
              "      <td>38</td>\n",
              "      <td>PD</td>\n",
              "      <td>1</td>\n",
              "      <td>0.22</td>\n",
              "      <td>05H</td>\n",
              "      <td>1</td>\n",
              "      <td>1.0</td>\n",
              "      <td>RA</td>\n",
              "      <td>PT</td>\n",
              "      <td>15.0</td>\n",
              "      <td>100.0</td>\n",
              "      <td>440.0</td>\n",
              "      <td>30/09/2010</td>\n",
              "      <td>2_SESAQ_1</td>\n",
              "      <td>1_SESAQ_1</td>\n",
              "      <td>SESAQ</td>\n",
              "      <td>12737</td>\n",
              "      <td>2805802</td>\n",
              "      <td>0</td>\n",
              "      <td>T</td>\n",
              "      <td>0</td>\n",
              "      <td></td>\n",
              "      <td>NU</td>\n",
              "      <td>POINT (627712.617 8776098.670)</td>\n",
              "      <td>6030.232571</td>\n",
              "      <td>65956.189519</td>\n",
              "      <td>3868.829691</td>\n",
              "      <td>2054</td>\n",
              "      <td>182.473575</td>\n",
              "    </tr>\n",
              "    <tr>\n",
              "      <th>1</th>\n",
              "      <td>4_1040306</td>\n",
              "      <td>46</td>\n",
              "      <td>452681</td>\n",
              "      <td>ET4_1040306</td>\n",
              "      <td>0</td>\n",
              "      <td>ABC</td>\n",
              "      <td>ABCN</td>\n",
              "      <td>0</td>\n",
              "      <td>AT</td>\n",
              "      <td>38</td>\n",
              "      <td>PD</td>\n",
              "      <td>1</td>\n",
              "      <td>0.22</td>\n",
              "      <td>05H</td>\n",
              "      <td>1</td>\n",
              "      <td>1.0</td>\n",
              "      <td>RA</td>\n",
              "      <td>PT</td>\n",
              "      <td>15.0</td>\n",
              "      <td>100.0</td>\n",
              "      <td>440.0</td>\n",
              "      <td>15/03/2011</td>\n",
              "      <td>2_SESAQ_1</td>\n",
              "      <td>1_SESAQ_1</td>\n",
              "      <td>SESAQ</td>\n",
              "      <td>12737</td>\n",
              "      <td>2805802</td>\n",
              "      <td>0</td>\n",
              "      <td>T</td>\n",
              "      <td>0</td>\n",
              "      <td></td>\n",
              "      <td>NU</td>\n",
              "      <td>POINT (626353.418 8777498.606)</td>\n",
              "      <td>6839.156041</td>\n",
              "      <td>67798.259119</td>\n",
              "      <td>5529.165862</td>\n",
              "      <td>4111</td>\n",
              "      <td>668.681912</td>\n",
              "    </tr>\n",
              "    <tr>\n",
              "      <th>2</th>\n",
              "      <td>7_2070013</td>\n",
              "      <td>46</td>\n",
              "      <td>600021</td>\n",
              "      <td>ET7_2070013</td>\n",
              "      <td>0</td>\n",
              "      <td>ABC</td>\n",
              "      <td>ABCN</td>\n",
              "      <td>0</td>\n",
              "      <td>AT</td>\n",
              "      <td>38</td>\n",
              "      <td>O</td>\n",
              "      <td>2</td>\n",
              "      <td>0.38</td>\n",
              "      <td>5H</td>\n",
              "      <td>1</td>\n",
              "      <td>1.0</td>\n",
              "      <td>RA</td>\n",
              "      <td>PT</td>\n",
              "      <td>112.5</td>\n",
              "      <td>440.0</td>\n",
              "      <td>1990.0</td>\n",
              "      <td>30/09/2010</td>\n",
              "      <td>1_SEITI_1</td>\n",
              "      <td>1_SEITI_1</td>\n",
              "      <td>SEITI</td>\n",
              "      <td>15601</td>\n",
              "      <td>2803005</td>\n",
              "      <td>0</td>\n",
              "      <td>T</td>\n",
              "      <td>0</td>\n",
              "      <td></td>\n",
              "      <td>UB</td>\n",
              "      <td>POINT (632355.415 8753247.956)</td>\n",
              "      <td>802.511258</td>\n",
              "      <td>50560.232126</td>\n",
              "      <td>1.977559</td>\n",
              "      <td>6269</td>\n",
              "      <td>35.663825</td>\n",
              "    </tr>\n",
              "    <tr>\n",
              "      <th>3</th>\n",
              "      <td>4_1040035</td>\n",
              "      <td>46</td>\n",
              "      <td>462831</td>\n",
              "      <td>ET4_1040035</td>\n",
              "      <td>ET4_1040035</td>\n",
              "      <td>AB</td>\n",
              "      <td>AN</td>\n",
              "      <td>BN</td>\n",
              "      <td>AT</td>\n",
              "      <td>38</td>\n",
              "      <td>PD</td>\n",
              "      <td>1</td>\n",
              "      <td>0.23</td>\n",
              "      <td>1H</td>\n",
              "      <td>1</td>\n",
              "      <td>1.0</td>\n",
              "      <td>RA</td>\n",
              "      <td>PT</td>\n",
              "      <td>15.0</td>\n",
              "      <td>85.0</td>\n",
              "      <td>355.0</td>\n",
              "      <td>30/09/2010</td>\n",
              "      <td>2_SESAQ_1</td>\n",
              "      <td>1_SESAQ_1</td>\n",
              "      <td>SESAQ</td>\n",
              "      <td>12737</td>\n",
              "      <td>2805802</td>\n",
              "      <td>0</td>\n",
              "      <td>MT</td>\n",
              "      <td>0</td>\n",
              "      <td></td>\n",
              "      <td>NU</td>\n",
              "      <td>POINT (635724.137 8773322.662)</td>\n",
              "      <td>11259.764183</td>\n",
              "      <td>57554.073637</td>\n",
              "      <td>1420.588809</td>\n",
              "      <td>8962</td>\n",
              "      <td>191.940500</td>\n",
              "    </tr>\n",
              "    <tr>\n",
              "      <th>4</th>\n",
              "      <td>13_1130368</td>\n",
              "      <td>46</td>\n",
              "      <td>148261</td>\n",
              "      <td>ET13_1130368</td>\n",
              "      <td>0</td>\n",
              "      <td>ABC</td>\n",
              "      <td>ABCN</td>\n",
              "      <td>0</td>\n",
              "      <td>AT</td>\n",
              "      <td>38</td>\n",
              "      <td>PD</td>\n",
              "      <td>1</td>\n",
              "      <td>0.38</td>\n",
              "      <td>2H</td>\n",
              "      <td>1</td>\n",
              "      <td>1.0</td>\n",
              "      <td>RA</td>\n",
              "      <td>PT</td>\n",
              "      <td>45.0</td>\n",
              "      <td>220.0</td>\n",
              "      <td>1000.0</td>\n",
              "      <td>18/10/2013</td>\n",
              "      <td>1_SETMG_1</td>\n",
              "      <td>2_SETMG_1</td>\n",
              "      <td>SETMG</td>\n",
              "      <td>12743</td>\n",
              "      <td>2917904</td>\n",
              "      <td>0</td>\n",
              "      <td>T</td>\n",
              "      <td>0</td>\n",
              "      <td></td>\n",
              "      <td>NU</td>\n",
              "      <td>POINT (631104.558 8720058.235)</td>\n",
              "      <td>23063.913506</td>\n",
              "      <td>36539.002419</td>\n",
              "      <td>5473.898753</td>\n",
              "      <td>5214</td>\n",
              "      <td>58.166348</td>\n",
              "    </tr>\n",
              "  </tbody>\n",
              "</table>\n",
              "</div>"
            ],
            "text/plain": [
              "       COD_ID  DIST   PAC_1  ...  main_r_dist closest_trd_i closest_trd_dist\n",
              "0   4_1040341    46  452971  ...  3868.829691          2054       182.473575\n",
              "1   4_1040306    46  452681  ...  5529.165862          4111       668.681912\n",
              "2   7_2070013    46  600021  ...     1.977559          6269        35.663825\n",
              "3   4_1040035    46  462831  ...  1420.588809          8962       191.940500\n",
              "4  13_1130368    46  148261  ...  5473.898753          5214        58.166348\n",
              "\n",
              "[5 rows x 38 columns]"
            ]
          },
          "metadata": {
            "tags": []
          },
          "execution_count": 144
        }
      ]
    },
    {
      "cell_type": "markdown",
      "metadata": {
        "id": "8VkmP6KZ-ykO",
        "colab_type": "text"
      },
      "source": [
        "## Conclutions\n",
        "\n",
        "In this post we learn how to capture location and convert it in structure features that can be feed to a Machine Learning algorithm, using mainly distances to keypoints and references.\n",
        "\n",
        "In the next post we'll see how we can use OSMnx to download information from OpenStreet Maps and use it as reference."
      ]
    },
    {
      "cell_type": "code",
      "metadata": {
        "id": "XUcz2CR-Ik8n",
        "colab_type": "code",
        "colab": {}
      },
      "source": [
        ""
      ],
      "execution_count": null,
      "outputs": []
    }
  ]
}